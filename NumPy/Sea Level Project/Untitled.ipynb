{
 "cells": [
  {
   "cell_type": "code",
   "execution_count": 1,
   "metadata": {},
   "outputs": [],
   "source": [
    "import pandas as pd \n",
    "import matplotlib.pyplot as plt \n",
    "from scipy.stats import linregress"
   ]
  },
  {
   "cell_type": "code",
   "execution_count": 4,
   "metadata": {},
   "outputs": [],
   "source": [
    "def draw_plot():\n",
    "    # Read data from file \n",
    "    df = pd.read_csv('epa-sea-level.csv')\n",
    "\n",
    "    # Create scatter plot \n",
    "    x= df['Year']\n",
    "    y=df['CSIRO Adjusted Sea Level']\n",
    "    plt.scatter(x,y,c='b',s=10,alpha=0.5)\n",
    "\n",
    "    # Create first line of best fit \n",
    "    stats = linregress(x,y)\n",
    "    m=stats.slope\n",
    "    b=stats.intercept\n",
    "    x_line=range(1880,2050)\n",
    "    plt.plot(x_line, m*x_line+b, color='red')\n",
    "\n",
    "    # Create second line of best fit\n",
    "    df_2000=df[df['Year'] >=2000]\n",
    "    x= df_2000['Year']\n",
    "    y= df_2000['CSIRO Adjusted Sea Level']"
   ]
  },
  {
   "cell_type": "code",
   "execution_count": null,
   "metadata": {},
   "outputs": [],
   "source": []
  }
 ],
 "metadata": {
  "kernelspec": {
   "display_name": "Python 3",
   "language": "python",
   "name": "python3"
  },
  "language_info": {
   "codemirror_mode": {
    "name": "ipython",
    "version": 3
   },
   "file_extension": ".py",
   "mimetype": "text/x-python",
   "name": "python",
   "nbconvert_exporter": "python",
   "pygments_lexer": "ipython3",
   "version": "3.7.6"
  }
 },
 "nbformat": 4,
 "nbformat_minor": 4
}
