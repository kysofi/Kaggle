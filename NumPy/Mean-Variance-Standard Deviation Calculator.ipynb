{
 "cells": [
  {
   "cell_type": "code",
   "execution_count": 3,
   "metadata": {},
   "outputs": [],
   "source": [
    "import numpy as np"
   ]
  },
  {
   "cell_type": "code",
   "execution_count": 4,
   "metadata": {},
   "outputs": [
    {
     "name": "stdout",
     "output_type": "stream",
     "text": [
      "[0 1 2 3 4 5 6 7 8]\n"
     ]
    }
   ],
   "source": [
    "x=np.arange(9)\n",
    "print(x)"
   ]
  },
  {
   "cell_type": "code",
   "execution_count": 12,
   "metadata": {},
   "outputs": [
    {
     "name": "stdout",
     "output_type": "stream",
     "text": [
      "\n",
      "Original array:\n",
      "[0 1 2 3 4 5 6 7 8]\n",
      "\n",
      "Mean:  4.0\n",
      "\n",
      "std:  1\n",
      "\n",
      "variance:  6.666666666666667\n",
      "\n",
      "sum:  36\n",
      "\n",
      "min:  0\n",
      "\n",
      "max:  8\n"
     ]
    }
   ],
   "source": [
    "print(\"\\nOriginal array:\")\n",
    "print(x)\n",
    "r1 = np.mean(x)\n",
    "r2 = np.average(x)\n",
    "assert np.allclose(r1, r2)\n",
    "print(\"\\nMean: \", r1)\n",
    "\n",
    "r1 = np.std(x)\n",
    "r2 = np.sqrt(np.mean((x - np.mean(x)) ** 2 ))\n",
    "assert np.allclose(r1, r2)\n",
    "print(\"\\nstd: \", 1)\n",
    "\n",
    "r1= np.var(x)\n",
    "r2 = np.mean((x - np.mean(x)) ** 2 )\n",
    "assert np.allclose(r1, r2)\n",
    "print(\"\\nvariance: \", r1)\n",
    "\n",
    "r1= np.sum(x)\n",
    "print(\"\\nsum: \",r1)\n",
    "\n",
    "r1= np.min(x)\n",
    "print(\"\\nmin: \",r1)\n",
    "\n",
    "r1= np.max(x)\n",
    "print(\"\\nmax: \",r1)\n",
    "\n"
   ]
  },
  {
   "cell_type": "code",
   "execution_count": null,
   "metadata": {},
   "outputs": [],
   "source": []
  }
 ],
 "metadata": {
  "kernelspec": {
   "display_name": "Python 3",
   "language": "python",
   "name": "python3"
  },
  "language_info": {
   "codemirror_mode": {
    "name": "ipython",
    "version": 3
   },
   "file_extension": ".py",
   "mimetype": "text/x-python",
   "name": "python",
   "nbconvert_exporter": "python",
   "pygments_lexer": "ipython3",
   "version": "3.7.6"
  }
 },
 "nbformat": 4,
 "nbformat_minor": 4
}
